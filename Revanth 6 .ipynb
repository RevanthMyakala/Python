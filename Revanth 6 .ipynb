{
 "cells": [
  {
   "cell_type": "markdown",
   "metadata": {},
   "source": [
    "Python problems\n"
   ]
  },
  {
   "cell_type": "markdown",
   "metadata": {},
   "source": [
    "1. We download many webpages. Webpages are written in HTML language, which uses tags to define webpage format. For example, a simple HTML page may look like this:<br>\n",
    "\\<title\\> Our first HTML page\\</title\\><br>\n",
    "\\<p\\>Hello world\\</p\\><br>\n",
    "\\<p\\>Today is a good day.\\</p\\><br>\n",
    "\\<p\\>Tomorrow may be too.\\</p\\><br>\n",
    "<br>\n",
    "Tags are marked with a set of <...>. In one project, we need to remove the tags before we process the text. <br>\n",
    "Please use regular expression to remove the tags. Do not forget to import the re module. HINT: Follow our example of sub() method. Replace with empty string."
   ]
  },
  {
   "cell_type": "code",
   "execution_count": 12,
   "metadata": {},
   "outputs": [
    {
     "name": "stdout",
     "output_type": "stream",
     "text": [
      "\"Our first HTML page Hello world\"\n"
     ]
    }
   ],
   "source": [
    "Txt = '<title>\"Our first HTML page</title> <p>Hello world\"</p>'\n",
    "# For this example, the pattern definition we can do the following (refer to our class Notebook):\n",
    "# 1. '/' is optional\n",
    "# 2. Specify the length of words within tag <> using {n,m} to include both p and title.\n",
    "\n",
    "\n",
    "# The output: \"Our first HTML page Hello world\"\n",
    "\n",
    "import re\n",
    "\n",
    "C = re.compile('<.*?>') \n",
    "\n",
    "def clnhtml(Txt):\n",
    "  ctext = re.sub(C, '',Txt)\n",
    "  return ctext\n",
    "print(clnhtml(Txt))"
   ]
  },
  {
   "cell_type": "markdown",
   "metadata": {},
   "source": [
    "2. Recent research in Finance intends to process large amount of text from SEC reports, meeting records, and social media. Extracting information about earnings per share from text is one of the focal tasks. <br>\n",
    "They may be mentioned in different terms, such as 'earnings are 0.36', 'earnings per share 1.5', 'earnings this year 0.75'. Use regular expression to extract the earnings numbers only. You do not need to evaluate whether the numbers are earnings related or not."
   ]
  },
  {
   "cell_type": "code",
   "execution_count": 10,
   "metadata": {},
   "outputs": [
    {
     "name": "stdout",
     "output_type": "stream",
     "text": [
      "[1.5, 1.25, 1.0]\n"
     ]
    }
   ],
   "source": [
    "earn = 'We are cautiously positive for next year. With earnings per share of 1.5,\\\n",
    "we beat analysts\\' forcast of earnings 1.25. Our competitors hold an average earnings of 1.0.'\n",
    "\n",
    "# The output: [1.5, 1.25, 1.0]\n",
    "import re\n",
    "a=re.findall(\"\\d+\\.\\d+\",earn)\n",
    "g=[]\n",
    "for b in a:\n",
    "    g.append(float(b))\n",
    "print(g)"
   ]
  },
  {
   "cell_type": "markdown",
   "metadata": {},
   "source": [
    "3. In data preparation, sometimes we need to transform variables in certain ways. For instance, there is a binary variable that indicates whether a customer has made contacts before. Because of the data collection process, the value of the variable may be 'Yes', 'yes', 'y', 'Y' or 'No', 'no', 'N', 'n'. Write a program to transform all yes-related values into 1 and no-related value into 0.<br>\n",
    "    Input: a list of values, such as ['Yes', 'yes', 'y', 'Y', 'No', 'no', 'N', 'n', 'Yes', 'n'] <br>\n",
    "    Output: [1, 1, 1, 1, 0, 0, 0, 0, 1, 0] <br>"
   ]
  },
  {
   "cell_type": "code",
   "execution_count": 15,
   "metadata": {},
   "outputs": [
    {
     "ename": "NameError",
     "evalue": "name 'y_lst' is not defined",
     "output_type": "error",
     "traceback": [
      "\u001b[0;31m---------------------------------------------------------------------------\u001b[0m",
      "\u001b[0;31mNameError\u001b[0m                                 Traceback (most recent call last)",
      "Input \u001b[0;32mIn [15]\u001b[0m, in \u001b[0;36m<cell line: 5>\u001b[0;34m()\u001b[0m\n\u001b[1;32m      4\u001b[0m lst_m\u001b[38;5;241m=\u001b[39m[]\n\u001b[1;32m      5\u001b[0m \u001b[38;5;28;01mfor\u001b[39;00m n \u001b[38;5;129;01min\u001b[39;00m lst_g:\n\u001b[0;32m----> 6\u001b[0m     \u001b[38;5;28;01mif\u001b[39;00m n \u001b[38;5;129;01min\u001b[39;00m \u001b[43my_lst\u001b[49m:\n\u001b[1;32m      7\u001b[0m         lst_m\u001b[38;5;241m.\u001b[39mappend(\u001b[38;5;241m1\u001b[39m)\n\u001b[1;32m      8\u001b[0m     \u001b[38;5;28;01melse\u001b[39;00m:\n",
      "\u001b[0;31mNameError\u001b[0m: name 'y_lst' is not defined"
     ]
    }
   ],
   "source": [
    "\n",
    "lst_g=['Yes', 'yes', 'y', 'Y', 'No', 'no', 'N', 'n', 'Yes', 'n']\n",
    "lst_y=['Yes', 'yes', 'y', 'Y']\n",
    "lst_n=['No', 'no', 'N', 'n',]\n",
    "lst_m=[]\n",
    "for n in lst_g:\n",
    "    if n in y_lst:\n",
    "        lst_m.append(1)\n",
    "    else:\n",
    "        lst_m.append(0)\n",
    "print(lst_m)\n",
    "        "
   ]
  },
  {
   "cell_type": "markdown",
   "metadata": {},
   "source": [
    "### 4. Write a program to generate urls of university websites <br>\n",
    "1. We have a list of universities: University of North Texas, University of Texas Arlington, Massachusetts Institue of Technologies.<br>\n",
    "2. Their URLs are similar: Taking the initials of the words in the name and combine together to get the middle part of the URL: UNT, UTA, MIT. Adding \"http://www.\" and \".edu\", we get the full URL, e.g., \"http://www.unt.edu\".<br>\n",
    "3. First, we iterate the university list to process the name of each university.<br>\n",
    "4. For each university name, we need to slice the first letter of each word (except \"of\") in its name and concatenate them together into a string. (HINT: we can turn each university name into a list of words. Then we iterate each word, slice the first letter and concatenate them together.)<br>\n",
    "5. Once we get the initial string for each university, the full URL is to concatenate it with \"http://www.\" and \".edu\".<br>"
   ]
  },
  {
   "cell_type": "code",
   "execution_count": 14,
   "metadata": {},
   "outputs": [
    {
     "name": "stdout",
     "output_type": "stream",
     "text": [
      "['http://www.unt.edu', 'http://www.uta.edu', 'http://www.mit.edu']\n"
     ]
    }
   ],
   "source": [
    "lst_universities = ['University of North Texas', 'University of Texas Arlington', 'Massachusetts Institue of Technologies']\n",
    "l=[]\n",
    "for z in lst_universities:\n",
    "    y=list(z.split(\" \"))\n",
    "    y.remove(\"of\")\n",
    "    l.append(y)\n",
    "l2=[]\n",
    "for z in l:\n",
    "    v=\"\"\n",
    "    for w in z:\n",
    "        v=v+w[0].lower()\n",
    "    l2.append(v)\n",
    "\n",
    "u=[]\n",
    "for c in l2:\n",
    "    f='http://www.'+c+'.edu'\n",
    "    u.append(f)\n",
    "print(u)\n",
    "\n",
    "        \n",
    "    \n",
    "# The output:\n",
    "# ['http://www.unt.edu','http://www.uta.edu','http://www.mit.edu']"
   ]
  },
  {
   "cell_type": "code",
   "execution_count": null,
   "metadata": {},
   "outputs": [],
   "source": []
  }
 ],
 "metadata": {
  "kernelspec": {
   "display_name": "Python 3 (ipykernel)",
   "language": "python",
   "name": "python3"
  },
  "language_info": {
   "codemirror_mode": {
    "name": "ipython",
    "version": 3
   },
   "file_extension": ".py",
   "mimetype": "text/x-python",
   "name": "python",
   "nbconvert_exporter": "python",
   "pygments_lexer": "ipython3",
   "version": "3.9.12"
  }
 },
 "nbformat": 4,
 "nbformat_minor": 2
}
